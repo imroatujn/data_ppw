{
 "cells": [
  {
   "cell_type": "markdown",
   "id": "198a0d10",
   "metadata": {},
   "source": [
    "# import library"
   ]
  },
  {
   "cell_type": "code",
   "execution_count": 1,
   "id": "a121b66d",
   "metadata": {},
   "outputs": [],
   "source": [
    "import pandas as pd\n",
    "import numpy as np\n",
    "from sklearn.feature_extraction.text import CountVectorizer"
   ]
  },
  {
   "cell_type": "markdown",
   "id": "49555b1f",
   "metadata": {},
   "source": [
    "# Read Data PTA"
   ]
  },
  {
   "cell_type": "code",
   "execution_count": 2,
   "id": "433f983a",
   "metadata": {},
   "outputs": [],
   "source": [
    "dataPTA = pd.read_excel('PTAscrawl.xlsx')"
   ]
  },
  {
   "cell_type": "code",
   "execution_count": 3,
   "id": "85618ab0",
   "metadata": {
    "scrolled": true
   },
   "outputs": [
    {
     "data": {
      "text/html": [
       "<div>\n",
       "<style scoped>\n",
       "    .dataframe tbody tr th:only-of-type {\n",
       "        vertical-align: middle;\n",
       "    }\n",
       "\n",
       "    .dataframe tbody tr th {\n",
       "        vertical-align: top;\n",
       "    }\n",
       "\n",
       "    .dataframe thead th {\n",
       "        text-align: right;\n",
       "    }\n",
       "</style>\n",
       "<table border=\"1\" class=\"dataframe\">\n",
       "  <thead>\n",
       "    <tr style=\"text-align: right;\">\n",
       "      <th></th>\n",
       "      <th>Column1</th>\n",
       "      <th>Column2</th>\n",
       "      <th>Column3</th>\n",
       "      <th>Column4</th>\n",
       "      <th>Column5</th>\n",
       "    </tr>\n",
       "  </thead>\n",
       "  <tbody>\n",
       "    <tr>\n",
       "      <th>0</th>\n",
       "      <td>Judul</td>\n",
       "      <td>Penulis</td>\n",
       "      <td>Dosen 1</td>\n",
       "      <td>Dosen 2</td>\n",
       "      <td>Abstrak</td>\n",
       "    </tr>\n",
       "    <tr>\n",
       "      <th>1</th>\n",
       "      <td>SISTEM PENDUKUNG KEPUTUSAN PEMILIHAN KARYAWAN ...</td>\n",
       "      <td>Penulis : Catur Ngesti Waluyo</td>\n",
       "      <td>Dosen Pembimbing I : Mula'ab,S.Si.,M.Kom</td>\n",
       "      <td>Dosen Pembimbing II :Riza Alfita, S.T., M.T</td>\n",
       "      <td>Sumber daya manusia mutlak dibutuhkan untuk ke...</td>\n",
       "    </tr>\n",
       "    <tr>\n",
       "      <th>2</th>\n",
       "      <td>Perancangan Sistem Informasi Badan Kepegawaian...</td>\n",
       "      <td>Penulis : MALIKUL HAMZAH</td>\n",
       "      <td>Dosen Pembimbing I : Moch. Kautsar Sophan, S.K...</td>\n",
       "      <td>Dosen Pembimbing II :Yeni Kustiyaningsih, S.Ko...</td>\n",
       "      <td>Kantor Badan Kepegawaian kota Bangkalan adalah...</td>\n",
       "    </tr>\n",
       "    <tr>\n",
       "      <th>3</th>\n",
       "      <td>IMPLEMENTASI  ALGORITMA PRIM  DAN DEPTH FIRST ...</td>\n",
       "      <td>Penulis : M Khoiril Anwar</td>\n",
       "      <td>Dosen Pembimbing I : Cucun Very Angkoso, S.T.,...</td>\n",
       "      <td>Dosen Pembimbing II :Arik Kurniawati S. Kom., ...</td>\n",
       "      <td>Teknologi mobile game beroperating system open...</td>\n",
       "    </tr>\n",
       "    <tr>\n",
       "      <th>4</th>\n",
       "      <td>EKSTRAKSI FITUR BERBASIS TWO DIMENSIONAL LINEA...</td>\n",
       "      <td>Penulis : Muhammad Choirur Rozi</td>\n",
       "      <td>Dosen Pembimbing I : Dr. Arif Muntasa, S.Si.,M.T</td>\n",
       "      <td>Dosen Pembimbing II :Fitri Damayanti, S.Kom.,M...</td>\n",
       "      <td>Sistem pengenalan wajah adalah suatu sistem un...</td>\n",
       "    </tr>\n",
       "    <tr>\n",
       "      <th>5</th>\n",
       "      <td>RANCANG BANGUN GAME PERAWATAN SAPI KARAPAN MEN...</td>\n",
       "      <td>Penulis : NURRACHMAT</td>\n",
       "      <td>Dosen Pembimbing I : Arik Kurniawati, S.Kom., ...</td>\n",
       "      <td>Dosen Pembimbing II :Kurniawan Eka Permana, S....</td>\n",
       "      <td>Perkembangan game yang semakin pesat, memberik...</td>\n",
       "    </tr>\n",
       "    <tr>\n",
       "      <th>6</th>\n",
       "      <td>AUTO LEVELING BERBASIS FINITE STATE MACHINE (F...</td>\n",
       "      <td>Penulis : Syafrial Nur Maulana</td>\n",
       "      <td>Dosen Pembimbing I : Arik Kurniawati, S.Kom.,M.T.</td>\n",
       "      <td>Dosen Pembimbing II :Ari Kusumaningsih, S.T., ...</td>\n",
       "      <td>Pengetahuan tentang bahasa Inggris pada jaman ...</td>\n",
       "    </tr>\n",
       "    <tr>\n",
       "      <th>7</th>\n",
       "      <td>Gerak Pekerja Pada Game Real Time Strategy Men...</td>\n",
       "      <td>Penulis : Adi Chandra Laksono</td>\n",
       "      <td>Dosen Pembimbing I : Kurniawan Eka P, S.Kom., Msc</td>\n",
       "      <td>Dosen Pembimbing II :Arik Kurniawati, S.Kom., ...</td>\n",
       "      <td>Gerak pekerja ada pada game yang memiliki genr...</td>\n",
       "    </tr>\n",
       "    <tr>\n",
       "      <th>8</th>\n",
       "      <td>PENGEMBANGAN MESIN PENCARIAN ANTIPLAGIASI PADA...</td>\n",
       "      <td>Penulis : ilham wibisono aziz</td>\n",
       "      <td>Dosen Pembimbing I : Hermawan S.T.,M.Kom</td>\n",
       "      <td>Dosen Pembimbing II :Andharini Dwi Cahyani S.K...</td>\n",
       "      <td>ABSTRAK_x000D_\\nPenjiplakan merupakan masalah ...</td>\n",
       "    </tr>\n",
       "    <tr>\n",
       "      <th>9</th>\n",
       "      <td>ANALISA VALIDITAS PENERIMA BEASISWA MENGGUNAKA...</td>\n",
       "      <td>Penulis : Hilmi Fairuz Abadi</td>\n",
       "      <td>Dosen Pembimbing I : Bain Khusnul K., S.T., M....</td>\n",
       "      <td>Dosen Pembimbing II :Firli Irhamni, S.T., M.Kom.</td>\n",
       "      <td>Beasiswa adalah pemberian berupa bantuan keuan...</td>\n",
       "    </tr>\n",
       "  </tbody>\n",
       "</table>\n",
       "</div>"
      ],
      "text/plain": [
       "                                             Column1  \\\n",
       "0                                              Judul   \n",
       "1  SISTEM PENDUKUNG KEPUTUSAN PEMILIHAN KARYAWAN ...   \n",
       "2  Perancangan Sistem Informasi Badan Kepegawaian...   \n",
       "3  IMPLEMENTASI  ALGORITMA PRIM  DAN DEPTH FIRST ...   \n",
       "4  EKSTRAKSI FITUR BERBASIS TWO DIMENSIONAL LINEA...   \n",
       "5  RANCANG BANGUN GAME PERAWATAN SAPI KARAPAN MEN...   \n",
       "6  AUTO LEVELING BERBASIS FINITE STATE MACHINE (F...   \n",
       "7  Gerak Pekerja Pada Game Real Time Strategy Men...   \n",
       "8  PENGEMBANGAN MESIN PENCARIAN ANTIPLAGIASI PADA...   \n",
       "9  ANALISA VALIDITAS PENERIMA BEASISWA MENGGUNAKA...   \n",
       "\n",
       "                           Column2  \\\n",
       "0                          Penulis   \n",
       "1    Penulis : Catur Ngesti Waluyo   \n",
       "2         Penulis : MALIKUL HAMZAH   \n",
       "3        Penulis : M Khoiril Anwar   \n",
       "4  Penulis : Muhammad Choirur Rozi   \n",
       "5             Penulis : NURRACHMAT   \n",
       "6   Penulis : Syafrial Nur Maulana   \n",
       "7    Penulis : Adi Chandra Laksono   \n",
       "8    Penulis : ilham wibisono aziz   \n",
       "9     Penulis : Hilmi Fairuz Abadi   \n",
       "\n",
       "                                             Column3  \\\n",
       "0                                            Dosen 1   \n",
       "1           Dosen Pembimbing I : Mula'ab,S.Si.,M.Kom   \n",
       "2  Dosen Pembimbing I : Moch. Kautsar Sophan, S.K...   \n",
       "3  Dosen Pembimbing I : Cucun Very Angkoso, S.T.,...   \n",
       "4   Dosen Pembimbing I : Dr. Arif Muntasa, S.Si.,M.T   \n",
       "5  Dosen Pembimbing I : Arik Kurniawati, S.Kom., ...   \n",
       "6  Dosen Pembimbing I : Arik Kurniawati, S.Kom.,M.T.   \n",
       "7  Dosen Pembimbing I : Kurniawan Eka P, S.Kom., Msc   \n",
       "8           Dosen Pembimbing I : Hermawan S.T.,M.Kom   \n",
       "9  Dosen Pembimbing I : Bain Khusnul K., S.T., M....   \n",
       "\n",
       "                                             Column4  \\\n",
       "0                                            Dosen 2   \n",
       "1        Dosen Pembimbing II :Riza Alfita, S.T., M.T   \n",
       "2  Dosen Pembimbing II :Yeni Kustiyaningsih, S.Ko...   \n",
       "3  Dosen Pembimbing II :Arik Kurniawati S. Kom., ...   \n",
       "4  Dosen Pembimbing II :Fitri Damayanti, S.Kom.,M...   \n",
       "5  Dosen Pembimbing II :Kurniawan Eka Permana, S....   \n",
       "6  Dosen Pembimbing II :Ari Kusumaningsih, S.T., ...   \n",
       "7  Dosen Pembimbing II :Arik Kurniawati, S.Kom., ...   \n",
       "8  Dosen Pembimbing II :Andharini Dwi Cahyani S.K...   \n",
       "9   Dosen Pembimbing II :Firli Irhamni, S.T., M.Kom.   \n",
       "\n",
       "                                             Column5  \n",
       "0                                            Abstrak  \n",
       "1  Sumber daya manusia mutlak dibutuhkan untuk ke...  \n",
       "2  Kantor Badan Kepegawaian kota Bangkalan adalah...  \n",
       "3  Teknologi mobile game beroperating system open...  \n",
       "4  Sistem pengenalan wajah adalah suatu sistem un...  \n",
       "5  Perkembangan game yang semakin pesat, memberik...  \n",
       "6  Pengetahuan tentang bahasa Inggris pada jaman ...  \n",
       "7  Gerak pekerja ada pada game yang memiliki genr...  \n",
       "8  ABSTRAK_x000D_\\nPenjiplakan merupakan masalah ...  \n",
       "9  Beasiswa adalah pemberian berupa bantuan keuan...  "
      ]
     },
     "execution_count": 3,
     "metadata": {},
     "output_type": "execute_result"
    }
   ],
   "source": [
    "dataPTA.head(10)"
   ]
  },
  {
   "cell_type": "markdown",
   "id": "23d5ccaa",
   "metadata": {},
   "source": [
    "# Case Folding"
   ]
  },
  {
   "cell_type": "code",
   "execution_count": 4,
   "id": "34dc14d3",
   "metadata": {
    "scrolled": true
   },
   "outputs": [
    {
     "ename": "KeyError",
     "evalue": "'Abstrak'",
     "output_type": "error",
     "traceback": [
      "\u001b[1;31m---------------------------------------------------------------------------\u001b[0m",
      "\u001b[1;31mKeyError\u001b[0m                                  Traceback (most recent call last)",
      "\u001b[1;32m~\\AppData\\Local\\Programs\\Python\\Python39\\lib\\site-packages\\pandas\\core\\indexes\\base.py\u001b[0m in \u001b[0;36mget_loc\u001b[1;34m(self, key, method, tolerance)\u001b[0m\n\u001b[0;32m   3360\u001b[0m             \u001b[1;32mtry\u001b[0m\u001b[1;33m:\u001b[0m\u001b[1;33m\u001b[0m\u001b[1;33m\u001b[0m\u001b[0m\n\u001b[1;32m-> 3361\u001b[1;33m                 \u001b[1;32mreturn\u001b[0m \u001b[0mself\u001b[0m\u001b[1;33m.\u001b[0m\u001b[0m_engine\u001b[0m\u001b[1;33m.\u001b[0m\u001b[0mget_loc\u001b[0m\u001b[1;33m(\u001b[0m\u001b[0mcasted_key\u001b[0m\u001b[1;33m)\u001b[0m\u001b[1;33m\u001b[0m\u001b[1;33m\u001b[0m\u001b[0m\n\u001b[0m\u001b[0;32m   3362\u001b[0m             \u001b[1;32mexcept\u001b[0m \u001b[0mKeyError\u001b[0m \u001b[1;32mas\u001b[0m \u001b[0merr\u001b[0m\u001b[1;33m:\u001b[0m\u001b[1;33m\u001b[0m\u001b[1;33m\u001b[0m\u001b[0m\n",
      "\u001b[1;32m~\\AppData\\Local\\Programs\\Python\\Python39\\lib\\site-packages\\pandas\\_libs\\index.pyx\u001b[0m in \u001b[0;36mpandas._libs.index.IndexEngine.get_loc\u001b[1;34m()\u001b[0m\n",
      "\u001b[1;32m~\\AppData\\Local\\Programs\\Python\\Python39\\lib\\site-packages\\pandas\\_libs\\index.pyx\u001b[0m in \u001b[0;36mpandas._libs.index.IndexEngine.get_loc\u001b[1;34m()\u001b[0m\n",
      "\u001b[1;32mpandas\\_libs\\hashtable_class_helper.pxi\u001b[0m in \u001b[0;36mpandas._libs.hashtable.PyObjectHashTable.get_item\u001b[1;34m()\u001b[0m\n",
      "\u001b[1;32mpandas\\_libs\\hashtable_class_helper.pxi\u001b[0m in \u001b[0;36mpandas._libs.hashtable.PyObjectHashTable.get_item\u001b[1;34m()\u001b[0m\n",
      "\u001b[1;31mKeyError\u001b[0m: 'Abstrak'",
      "\nThe above exception was the direct cause of the following exception:\n",
      "\u001b[1;31mKeyError\u001b[0m                                  Traceback (most recent call last)",
      "\u001b[1;32m~\\AppData\\Local\\Temp/ipykernel_28568/2661501719.py\u001b[0m in \u001b[0;36m<module>\u001b[1;34m\u001b[0m\n\u001b[0;32m      1\u001b[0m \u001b[1;31m# gunakan fungsi Series.str.lower() pada Pandas\u001b[0m\u001b[1;33m\u001b[0m\u001b[1;33m\u001b[0m\u001b[0m\n\u001b[1;32m----> 2\u001b[1;33m \u001b[0mdataPTA\u001b[0m\u001b[1;33m[\u001b[0m\u001b[1;34m'Abstrak'\u001b[0m\u001b[1;33m]\u001b[0m \u001b[1;33m=\u001b[0m \u001b[0mdataPTA\u001b[0m\u001b[1;33m[\u001b[0m\u001b[1;34m'Abstrak'\u001b[0m\u001b[1;33m]\u001b[0m\u001b[1;33m.\u001b[0m\u001b[0mstr\u001b[0m\u001b[1;33m.\u001b[0m\u001b[0mlower\u001b[0m\u001b[1;33m(\u001b[0m\u001b[1;33m)\u001b[0m\u001b[1;33m\u001b[0m\u001b[1;33m\u001b[0m\u001b[0m\n\u001b[0m\u001b[0;32m      3\u001b[0m \u001b[1;33m\u001b[0m\u001b[0m\n\u001b[0;32m      4\u001b[0m \u001b[0mprint\u001b[0m\u001b[1;33m(\u001b[0m\u001b[1;34m'Case Folding Result : \\n'\u001b[0m\u001b[1;33m)\u001b[0m\u001b[1;33m\u001b[0m\u001b[1;33m\u001b[0m\u001b[0m\n\u001b[0;32m      5\u001b[0m \u001b[1;33m\u001b[0m\u001b[0m\n",
      "\u001b[1;32m~\\AppData\\Local\\Programs\\Python\\Python39\\lib\\site-packages\\pandas\\core\\frame.py\u001b[0m in \u001b[0;36m__getitem__\u001b[1;34m(self, key)\u001b[0m\n\u001b[0;32m   3456\u001b[0m             \u001b[1;32mif\u001b[0m \u001b[0mself\u001b[0m\u001b[1;33m.\u001b[0m\u001b[0mcolumns\u001b[0m\u001b[1;33m.\u001b[0m\u001b[0mnlevels\u001b[0m \u001b[1;33m>\u001b[0m \u001b[1;36m1\u001b[0m\u001b[1;33m:\u001b[0m\u001b[1;33m\u001b[0m\u001b[1;33m\u001b[0m\u001b[0m\n\u001b[0;32m   3457\u001b[0m                 \u001b[1;32mreturn\u001b[0m \u001b[0mself\u001b[0m\u001b[1;33m.\u001b[0m\u001b[0m_getitem_multilevel\u001b[0m\u001b[1;33m(\u001b[0m\u001b[0mkey\u001b[0m\u001b[1;33m)\u001b[0m\u001b[1;33m\u001b[0m\u001b[1;33m\u001b[0m\u001b[0m\n\u001b[1;32m-> 3458\u001b[1;33m             \u001b[0mindexer\u001b[0m \u001b[1;33m=\u001b[0m \u001b[0mself\u001b[0m\u001b[1;33m.\u001b[0m\u001b[0mcolumns\u001b[0m\u001b[1;33m.\u001b[0m\u001b[0mget_loc\u001b[0m\u001b[1;33m(\u001b[0m\u001b[0mkey\u001b[0m\u001b[1;33m)\u001b[0m\u001b[1;33m\u001b[0m\u001b[1;33m\u001b[0m\u001b[0m\n\u001b[0m\u001b[0;32m   3459\u001b[0m             \u001b[1;32mif\u001b[0m \u001b[0mis_integer\u001b[0m\u001b[1;33m(\u001b[0m\u001b[0mindexer\u001b[0m\u001b[1;33m)\u001b[0m\u001b[1;33m:\u001b[0m\u001b[1;33m\u001b[0m\u001b[1;33m\u001b[0m\u001b[0m\n\u001b[0;32m   3460\u001b[0m                 \u001b[0mindexer\u001b[0m \u001b[1;33m=\u001b[0m \u001b[1;33m[\u001b[0m\u001b[0mindexer\u001b[0m\u001b[1;33m]\u001b[0m\u001b[1;33m\u001b[0m\u001b[1;33m\u001b[0m\u001b[0m\n",
      "\u001b[1;32m~\\AppData\\Local\\Programs\\Python\\Python39\\lib\\site-packages\\pandas\\core\\indexes\\base.py\u001b[0m in \u001b[0;36mget_loc\u001b[1;34m(self, key, method, tolerance)\u001b[0m\n\u001b[0;32m   3361\u001b[0m                 \u001b[1;32mreturn\u001b[0m \u001b[0mself\u001b[0m\u001b[1;33m.\u001b[0m\u001b[0m_engine\u001b[0m\u001b[1;33m.\u001b[0m\u001b[0mget_loc\u001b[0m\u001b[1;33m(\u001b[0m\u001b[0mcasted_key\u001b[0m\u001b[1;33m)\u001b[0m\u001b[1;33m\u001b[0m\u001b[1;33m\u001b[0m\u001b[0m\n\u001b[0;32m   3362\u001b[0m             \u001b[1;32mexcept\u001b[0m \u001b[0mKeyError\u001b[0m \u001b[1;32mas\u001b[0m \u001b[0merr\u001b[0m\u001b[1;33m:\u001b[0m\u001b[1;33m\u001b[0m\u001b[1;33m\u001b[0m\u001b[0m\n\u001b[1;32m-> 3363\u001b[1;33m                 \u001b[1;32mraise\u001b[0m \u001b[0mKeyError\u001b[0m\u001b[1;33m(\u001b[0m\u001b[0mkey\u001b[0m\u001b[1;33m)\u001b[0m \u001b[1;32mfrom\u001b[0m \u001b[0merr\u001b[0m\u001b[1;33m\u001b[0m\u001b[1;33m\u001b[0m\u001b[0m\n\u001b[0m\u001b[0;32m   3364\u001b[0m \u001b[1;33m\u001b[0m\u001b[0m\n\u001b[0;32m   3365\u001b[0m         \u001b[1;32mif\u001b[0m \u001b[0mis_scalar\u001b[0m\u001b[1;33m(\u001b[0m\u001b[0mkey\u001b[0m\u001b[1;33m)\u001b[0m \u001b[1;32mand\u001b[0m \u001b[0misna\u001b[0m\u001b[1;33m(\u001b[0m\u001b[0mkey\u001b[0m\u001b[1;33m)\u001b[0m \u001b[1;32mand\u001b[0m \u001b[1;32mnot\u001b[0m \u001b[0mself\u001b[0m\u001b[1;33m.\u001b[0m\u001b[0mhasnans\u001b[0m\u001b[1;33m:\u001b[0m\u001b[1;33m\u001b[0m\u001b[1;33m\u001b[0m\u001b[0m\n",
      "\u001b[1;31mKeyError\u001b[0m: 'Abstrak'"
     ]
    }
   ],
   "source": [
    "\n",
    "# gunakan fungsi Series.str.lower() pada Pandas\n",
    "dataPTA['Abstrak'] = dataPTA['Abstrak'].str.lower()\n",
    "\n",
    "print('Case Folding Result : \\n')\n",
    "\n",
    "#cek hasil case fold\n",
    "print(dataPTA['Abstrak'].head(5))\n",
    "print('\\n\\n\\n')"
   ]
  },
  {
   "cell_type": "markdown",
   "id": "332d9326",
   "metadata": {},
   "source": [
    "# Tokenization"
   ]
  },
  {
   "cell_type": "code",
   "execution_count": null,
   "id": "7c240b30",
   "metadata": {},
   "outputs": [],
   "source": [
    "#Import Library untuk Tokenisasi\n",
    "import string \n",
    "import re #regex library\n",
    "\n",
    "# import word_tokenize & FreqDist dari NLTK\n",
    "from nltk.tokenize import word_tokenize \n",
    "from nltk.probability import FreqDist\n",
    "\n",
    "def remove_PTA_special(text):\n",
    "    # menghapus tab, new line, dan back slice\n",
    "    text = text.replace('\\\\t',\" \").replace('\\\\n',\" \").replace('\\\\u',\" \").replace('\\\\',\"\")\n",
    "    # menghapus non ASCII (emoticon, chinese word, .etc)\n",
    "    text = text.encode('ascii', 'replace').decode('ascii')\n",
    "    # menghapus mention, link, hashtag\n",
    "    text = ' '.join(re.sub(\"([@#][A-Za-z0-9]+)|(\\w+:\\/\\/\\S+)\",\" \", text).split())\n",
    "    # menghapus incomplete URL\n",
    "    return text.replace(\"http://\", \" \").replace(\"https://\", \" \")\n",
    "                \n",
    "dataPTA['Abstrak'] = dataPTA['Abstrak'].apply(remove_PTA_special)\n",
    "\n",
    "#menghapus nomor\n",
    "def remove_number(text):\n",
    "    return  re.sub(r\"\\d+\", \"\", text)\n",
    "\n",
    "dataPTA['Abstrak'] = dataPTA['Abstrak'].apply(remove_number)\n",
    "\n",
    "#menghapus punctuation\n",
    "def remove_punctuation(text):\n",
    "    return text.translate(str.maketrans(\"\",\"\",string.punctuation))\n",
    "\n",
    "dataPTA['Abstrak'] = dataPTA['Abstrak'].apply(remove_punctuation)\n",
    "\n",
    "#menghapus spasi leading & trailing\n",
    "def remove_whitespace_LT(text):\n",
    "    return text.strip()\n",
    "\n",
    "dataPTA['Abstrak'] = dataPTA['Abstrak'].apply(remove_whitespace_LT)\n",
    "\n",
    "#menghapus spasi tunggal dan ganda\n",
    "def remove_whitespace_multiple(text):\n",
    "    return re.sub('\\s+',' ',text)\n",
    "\n",
    "dataPTA['Abstrak'] = dataPTA['Abstrak'].apply(remove_whitespace_multiple)\n",
    "\n",
    "# menghapus kata 1 abjad\n",
    "def remove_singl_char(text):\n",
    "    return re.sub(r\"\\b[a-zA-Z]\\b\", \"\", text)\n",
    "\n",
    "dataPTA['Abstrak'] = dataPTA['Abstrak'].apply(remove_singl_char)\n",
    "\n",
    "# Tokenisasi\n",
    "def word_tokenize_wrapper(text):\n",
    "    return word_tokenize(text)\n",
    "\n",
    "dataPTA['abstrak_token'] = dataPTA['Abstrak'].apply(word_tokenize_wrapper)\n",
    "\n",
    "print('Tokenizing Result : \\n') \n",
    "print(dataPTA['abstrak_token'].head())\n",
    "print('\\n\\n\\n')"
   ]
  },
  {
   "cell_type": "markdown",
   "id": "fa6ae080",
   "metadata": {},
   "source": [
    "# STOPWORD "
   ]
  },
  {
   "cell_type": "code",
   "execution_count": null,
   "id": "36de7fc5",
   "metadata": {},
   "outputs": [],
   "source": [
    "from nltk.corpus import stopwords\n",
    "\n",
    "list_stopwords = stopwords.words('indonesian')\n",
    "\n",
    "# Mengubah List ke dictionary\n",
    "list_stopwords = set(list_stopwords)\n",
    "\n",
    "\n",
    "#remove stopword pada list token\n",
    "def stopwords_removal(words):\n",
    "    return [word for word in words if word not in list_stopwords]\n",
    "\n",
    "#aStopwording\n",
    "dataPTA['abstrak_stop'] = dataPTA['abstrak_token'].apply(stopwords_removal) \n",
    "\n",
    "\n",
    "print(dataPTA['abstrak_stop'].head(20))"
   ]
  },
  {
   "cell_type": "code",
   "execution_count": null,
   "id": "c9547f60",
   "metadata": {
    "scrolled": true
   },
   "outputs": [],
   "source": [
    "dataPTA.head()"
   ]
  },
  {
   "cell_type": "code",
   "execution_count": null,
   "id": "27fc27cb",
   "metadata": {},
   "outputs": [],
   "source": [
    "dataPTA.to_excel(\"Text_Preprocessing.xlsx\")"
   ]
  },
  {
   "cell_type": "markdown",
   "id": "83a45678",
   "metadata": {},
   "source": [
    "# TF Process"
   ]
  },
  {
   "cell_type": "code",
   "execution_count": null,
   "id": "aa868498",
   "metadata": {
    "scrolled": true
   },
   "outputs": [],
   "source": [
    "PTA = pd.read_excel(\"Text_Preprocessing.xlsx\", usecols=[\"abstrak_stem\"])\n",
    "PTA.columns = [\"Abstrak\"]\n",
    "\n",
    "PTA.head()"
   ]
  },
  {
   "cell_type": "markdown",
   "id": "516953cd",
   "metadata": {},
   "source": [
    "# Creating Dummy"
   ]
  },
  {
   "cell_type": "code",
   "execution_count": null,
   "id": "008b2c01",
   "metadata": {
    "scrolled": true
   },
   "outputs": [],
   "source": [
    "def dummy(doc):\n",
    "    return doc"
   ]
  },
  {
   "cell_type": "code",
   "execution_count": null,
   "id": "5f0abbed",
   "metadata": {},
   "outputs": [],
   "source": [
    "from sklearn.feature_extraction.text import CountVectorizer\n",
    "\n",
    "#Membuat vektor object\n",
    "vectorizer = CountVectorizer()\n",
    "\n",
    "#Memasukkan semua abstrak ke dalam 1 list\n",
    "dokumen = []\n",
    "for term in PTA['Abstrak']:\n",
    "    document = ''\n",
    "    for link in term:\n",
    "        document += link + ''\n",
    "    dokumen.append(document)"
   ]
  },
  {
   "cell_type": "markdown",
   "id": "956ce0ed",
   "metadata": {},
   "source": [
    "# Vectorizing"
   ]
  },
  {
   "cell_type": "code",
   "execution_count": null,
   "id": "35b5749b",
   "metadata": {},
   "outputs": [],
   "source": [
    "vectorizer.fit(dokumen)\n",
    "\n",
    "# Printing the identified Unique words along with their indices\n",
    "print(\"Vocabulary: \", vectorizer.vocabulary_)\n",
    "\n",
    "# Encode the Document\n",
    "vector = vectorizer.transform(dokumen)\n",
    "\n",
    "# Summarizing the Encoded Texts\n",
    "print(\"Encoded Document is:\")\n",
    "print(vector.toarray())"
   ]
  },
  {
   "cell_type": "markdown",
   "id": "748cc3e6",
   "metadata": {},
   "source": [
    "# Mengurutkan data dan menyimpan dalam bentuk CSV"
   ]
  },
  {
   "cell_type": "code",
   "execution_count": null,
   "id": "e2695fac",
   "metadata": {},
   "outputs": [],
   "source": [
    "count = vector.toarray()\n",
    "urut = sorted(vectorizer.vocabulary_)\n",
    "df = pd.DataFrame(data=count,columns = urut)\n",
    "df.to_csv('Hasil_TF.csv')"
   ]
  },
  {
   "cell_type": "code",
   "execution_count": null,
   "id": "492eb18b",
   "metadata": {},
   "outputs": [],
   "source": []
  }
 ],
 "metadata": {
  "kernelspec": {
   "display_name": "Python 3 (ipykernel)",
   "language": "python",
   "name": "python3"
  },
  "language_info": {
   "codemirror_mode": {
    "name": "ipython",
    "version": 3
   },
   "file_extension": ".py",
   "mimetype": "text/x-python",
   "name": "python",
   "nbconvert_exporter": "python",
   "pygments_lexer": "ipython3",
   "version": "3.9.10"
  }
 },
 "nbformat": 4,
 "nbformat_minor": 5
}
