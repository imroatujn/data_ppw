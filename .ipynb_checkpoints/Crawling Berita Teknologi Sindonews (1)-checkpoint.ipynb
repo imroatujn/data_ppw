{
 "cells": [
  {
   "cell_type": "code",
   "execution_count": 1,
   "id": "26cd6787",
   "metadata": {},
   "outputs": [],
   "source": [
    "# scrap webpage\n",
    "import scrapy\n",
    "from scrapy.crawler import CrawlerRunner\n",
    "# Reactor restart\n",
    "from crochet import setup, wait_for\n",
    "setup()"
   ]
  },
  {
   "cell_type": "code",
   "execution_count": 1,
   "id": "7f8881a4",
   "metadata": {},
   "outputs": [
    {
     "ename": "NameError",
     "evalue": "name 'scrapy' is not defined",
     "output_type": "error",
     "traceback": [
      "\u001b[1;31m---------------------------------------------------------------------------\u001b[0m",
      "\u001b[1;31mNameError\u001b[0m                                 Traceback (most recent call last)",
      "\u001b[1;32m~\\AppData\\Local\\Temp/ipykernel_9908/2598919487.py\u001b[0m in \u001b[0;36m<module>\u001b[1;34m\u001b[0m\n\u001b[1;32m----> 1\u001b[1;33m \u001b[1;32mclass\u001b[0m \u001b[0mCrawlBerita\u001b[0m\u001b[1;33m(\u001b[0m\u001b[0mscrapy\u001b[0m\u001b[1;33m.\u001b[0m\u001b[0mSpider\u001b[0m\u001b[1;33m)\u001b[0m\u001b[1;33m:\u001b[0m\u001b[1;33m\u001b[0m\u001b[1;33m\u001b[0m\u001b[0m\n\u001b[0m\u001b[0;32m      2\u001b[0m     \u001b[0mname\u001b[0m \u001b[1;33m=\u001b[0m \u001b[1;34m\"crawlBerita\"\u001b[0m\u001b[1;33m\u001b[0m\u001b[1;33m\u001b[0m\u001b[0m\n\u001b[0;32m      3\u001b[0m     \u001b[0mstart_urls\u001b[0m \u001b[1;33m=\u001b[0m \u001b[1;33m[\u001b[0m\u001b[1;34m'https://pta.trunojoyo.ac.id/c_search/byprod/10/'\u001b[0m\u001b[1;33m+\u001b[0m\u001b[0mstr\u001b[0m\u001b[1;33m(\u001b[0m\u001b[0mx\u001b[0m\u001b[1;33m)\u001b[0m\u001b[1;33m+\u001b[0m\u001b[1;34m\" \"\u001b[0m \u001b[1;32mfor\u001b[0m \u001b[0mx\u001b[0m \u001b[1;32min\u001b[0m \u001b[0mrange\u001b[0m\u001b[1;33m(\u001b[0m\u001b[1;36m2\u001b[0m\u001b[1;33m,\u001b[0m\u001b[1;36m15\u001b[0m\u001b[1;33m)\u001b[0m\u001b[1;33m]\u001b[0m\u001b[1;33m\u001b[0m\u001b[1;33m\u001b[0m\u001b[0m\n\u001b[0;32m      4\u001b[0m     custom_settings = {\n\u001b[0;32m      5\u001b[0m         'FEEDS': {\n",
      "\u001b[1;31mNameError\u001b[0m: name 'scrapy' is not defined"
     ]
    }
   ],
   "source": [
    "class CrawlBerita(scrapy.Spider):\n",
    "    name = \"crawlBerita\"\n",
    "    start_urls = ['https://pta.trunojoyo.ac.id/c_search/byprod/10/'+str(x)+\" \" for x in range(2,15)]\n",
    "    custom_settings = {\n",
    "        'FEEDS': {\n",
    "            'PTAcrawl.csv': {\n",
    "                'format': 'csv',\n",
    "                'overwrite': True\n",
    "            }\n",
    "        }\n",
    "    }\n",
    "\n",
    "    def parse_categories(self, response):\n",
    "        products = response.css('div#content_journal ul li')\n",
    "        for product in products:\n",
    "            yield {\n",
    "                'Judul' : product.css('div a.title::text').get().strip(),\n",
    "                'Penulis' : product.css('div div:nth_child(2) span::text').get().strip(),\n",
    "                'Dosen 1' : product.css('div div:nth_child(3) span::text').get().strip(),\n",
    "                'Dosen 2' : product.css('div div:nth_child(4) span::text').get().strip(),\n",
    "                'Abstrak' : product.css('div div:nth_child(2) p::text').get().strip()\n",
    "            }\n",
    "\n",
    "# digunakan untuk memblokir panggilan ke thread Twisted Reactor\n",
    "@wait_for(10)\n",
    "def run_spider():\n",
    "    \"\"\"run spider dengan crawlBerita\"\"\"\n",
    "    crawler = CrawlerRunner()\n",
    "    d = crawler.crawl(CrawlBerita)\n",
    "    return d"
   ]
  },
  {
   "cell_type": "code",
   "execution_count": 3,
   "id": "ed9e49e6",
   "metadata": {},
   "outputs": [],
   "source": [
    "run_spider()"
   ]
  },
  {
   "cell_type": "code",
   "execution_count": null,
   "id": "feb627a2",
   "metadata": {},
   "outputs": [],
   "source": []
  }
 ],
 "metadata": {
  "kernelspec": {
   "display_name": "Python 3 (ipykernel)",
   "language": "python",
   "name": "python3"
  },
  "language_info": {
   "codemirror_mode": {
    "name": "ipython",
    "version": 3
   },
   "file_extension": ".py",
   "mimetype": "text/x-python",
   "name": "python",
   "nbconvert_exporter": "python",
   "pygments_lexer": "ipython3",
   "version": "3.9.10"
  }
 },
 "nbformat": 4,
 "nbformat_minor": 5
}
